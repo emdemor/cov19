{
 "cells": [
  {
   "cell_type": "markdown",
   "metadata": {},
   "source": [
    "# Modified SIRD Model for Covid-19"
   ]
  },
  {
   "cell_type": "code",
   "execution_count": 1,
   "metadata": {},
   "outputs": [],
   "source": [
    "import numpy as np\n",
    "#from numpy import random\n",
    "from covid import read_dataset,country,mod_sird\n",
    "from covid.stat import stat_model\n",
    "from IPython.display import display, Math\n",
    "#from tqdm import tqdm,tqdm_notebook\n",
    "import matplotlib.pyplot as plt"
   ]
  },
  {
   "cell_type": "code",
   "execution_count": 10,
   "metadata": {},
   "outputs": [
    {
     "data": {
      "text/plain": [
       "array([0.83603999, 0.84367844, 0.83315814, 0.26048891, 0.10218136,\n",
       "       0.01114331, 3.52464377])"
      ]
     },
     "execution_count": 10,
     "metadata": {},
     "output_type": "execute_result"
    }
   ],
   "source": [
    "old = np.array([0.85,1.02, 0.783, 0.189, 0.04,0.017, 3.5])\n",
    "\n",
    "med = SingleParameterEstimates[:,1]\n",
    "\n",
    "new = 2*med-old\n",
    "med"
   ]
  },
  {
   "cell_type": "code",
   "execution_count": 11,
   "metadata": {},
   "outputs": [
    {
     "data": {
      "image/png": "[encoded data removed]",
      "text/plain": [
       "<Figure size 432x288 with 1 Axes>"
      ]
     },
     "metadata": {
      "needs_background": "light"
     },
     "output_type": "display_data"
    }
   ],
   "source": [
    "# Raw Estimated Parameters\n",
    "scl_factor = 1000;\n",
    "par_labels = ['αs','αr','αd','β','r','d','logS0']\n",
    "par_dim = len(par_labels)\n",
    "#par_est = np.array([0.83564186, 0.84086336, 0.83394351, 0.26195987, 0.10374533, 0.01118474, 3.52208707])\n",
    "par_est = SingleParameterEstimates[:,1]\n",
    "par_stp = np.array([0.00007,0.00007,0.00007,0.0001,0.0002,1.25e-05,0.001])\n",
    "\n",
    "#df = read_dataset('Bing-COVID19-Data.csv')\n",
    "df = read_dataset('https://raw.githubusercontent.com/microsoft/Bing-COVID-19-Data/master/data/Bing-COVID19-Data.csv',url=True)\n",
    "brasil_df = country(name = \"Brazil\", population = 212000000)\n",
    "brasil_df.dataset(df,rescaling_by=1/scl_factor)\n",
    "\n",
    "StatModel = stat_model(brasil_df,mod_sird,par_est,rescaling_by=1/scl_factor,par_labels=par_labels)\n",
    "StatModel.data_model_plot(par_est)"
   ]
  },
  {
   "cell_type": "markdown",
   "metadata": {},
   "source": [
    "Notice that in the case of Brazil the recovered data are more scattered than confirmed and death cases. It need to think about a way to estimate errors to this data. As we don't have this yet,lets generate a MCMC sample, trying to fit just confirmed and deaths cases."
   ]
  },
  {
   "cell_type": "code",
   "execution_count": 12,
   "metadata": {},
   "outputs": [
    {
     "name": "stderr",
     "output_type": "stream",
     "text": [
      "walker 1: 100%|██████████| 25000/25000 [00:45<00:00, 546.11it/s]\n",
      "walker 2: 100%|██████████| 25000/25000 [00:44<00:00, 558.23it/s]\n",
      "walker 3: 100%|██████████| 25000/25000 [00:46<00:00, 542.91it/s]\n",
      "walker 4: 100%|██████████| 25000/25000 [00:45<00:00, 549.06it/s]\n"
     ]
    }
   ],
   "source": [
    "# generating a mcmc sample by metropolis-hastings algorithm\n",
    "StatModel.metropolis_hastings(100000,\n",
    "                              par_stp,\n",
    "                              overwrite=False,\n",
    "                              file_name='brazil_mcmc_sample_7par.csv',\n",
    "                              n_walkers=4,\n",
    "                              fit_confirmed = True,\n",
    "                              fit_death = True,\n",
    "                              fit_recovered = True\n",
    "                             )\n"
   ]
  },
  {
   "cell_type": "markdown",
   "metadata": {},
   "source": [
    "## Monte-Carlo Approach"
   ]
  },
  {
   "cell_type": "code",
   "execution_count": null,
   "metadata": {
    "scrolled": false
   },
   "outputs": [
    {
     "data": {
      "text/latex": [
       "$\\displaystyle \\mathrm{αs} = 0.837_{-0.00103}^{0.00262}$"
      ],
      "text/plain": [
       "<IPython.core.display.Math object>"
      ]
     },
     "metadata": {},
     "output_type": "display_data"
    },
    {
     "data": {
      "text/latex": [
       "$\\displaystyle \\mathrm{αr} = 0.846_{-0.00539}^{0.01106}$"
      ],
      "text/plain": [
       "<IPython.core.display.Math object>"
      ]
     },
     "metadata": {},
     "output_type": "display_data"
    },
    {
     "data": {
      "text/latex": [
       "$\\displaystyle \\mathrm{αd} = 0.833_{-0.00208}^{0.00159}$"
      ],
      "text/plain": [
       "<IPython.core.display.Math object>"
      ]
     },
     "metadata": {},
     "output_type": "display_data"
    },
    {
     "data": {
      "text/latex": [
       "$\\displaystyle \\mathrm{β} = 0.259_{-0.00548}^{0.00284}$"
      ],
      "text/plain": [
       "<IPython.core.display.Math object>"
      ]
     },
     "metadata": {},
     "output_type": "display_data"
    },
    {
     "data": {
      "text/latex": [
       "$\\displaystyle \\mathrm{r} = 0.101_{-0.00614}^{0.00304}$"
      ],
      "text/plain": [
       "<IPython.core.display.Math object>"
      ]
     },
     "metadata": {},
     "output_type": "display_data"
    },
    {
     "data": {
      "text/latex": [
       "$\\displaystyle \\mathrm{d} = 0.011_{-0.00008}^{0.00012}$"
      ],
      "text/plain": [
       "<IPython.core.display.Math object>"
      ]
     },
     "metadata": {},
     "output_type": "display_data"
    },
    {
     "data": {
      "text/latex": [
       "$\\displaystyle \\mathrm{logS0} = 3.527_{-0.00576}^{0.00680}$"
      ],
      "text/plain": [
       "<IPython.core.display.Math object>"
      ]
     },
     "metadata": {},
     "output_type": "display_data"
    }
   ],
   "source": [
    "StatModel.import_sample(file_name='brazil_mcmc_sample_7par.csv')\n",
    "SingleParameterEstimates = StatModel.single_parameter_estimates(alpha=0.3173)\n",
    "\n",
    "for i in range(par_dim):\n",
    "    mcmc = SingleParameterEstimates[i]\n",
    "    q = np.diff(mcmc)\n",
    "    txt = \"\\mathrm{{{3}}} = {0:.3f}_{{-{1:.5f}}}^{{{2:.5f}}}\"\n",
    "    txt = txt.format(mcmc[1], q[0], q[1], par_labels[i])\n",
    "    display(Math(txt))\n",
    "\n",
    "GTCPlot = StatModel.gtc_plot(save_figure=True)"
   ]
  },
  {
   "cell_type": "code",
   "execution_count": null,
   "metadata": {},
   "outputs": [],
   "source": [
    "StatModel.sample_df.info()"
   ]
  },
  {
   "cell_type": "markdown",
   "metadata": {},
   "source": [
    "## Confidence Regions in Epidemiologic Curves"
   ]
  },
  {
   "cell_type": "code",
   "execution_count": null,
   "metadata": {},
   "outputs": [],
   "source": [
    "from tqdm import tqdm\n",
    "from numpy import random\n",
    "\n",
    "\n",
    "TEND = 365;\n",
    "ALPHA = 0.02;\n",
    "    \n",
    "# Raw Estimated Parameters\n",
    "par_est = SingleParameterEstimates[:,1]\n",
    "\n",
    "# Solving Equations\n",
    "x0 = [10**(par_est[-1]),1/scl_factor,0,0]\n",
    "\n",
    "\n",
    "msird_av = mod_sird(par_est, x0,TEND)\n",
    "msird_av.solve()\n",
    "\n",
    "t = msird_av.days_list\n",
    "\n",
    "# Confirmed Cases Plot\n",
    "c_model = msird_av.confirmed_list\n",
    "plt.plot(t,c_model,color='#27408B', label='Confirmed',zorder=10)\n",
    "plt.scatter(brasil_df.days_list,brasil_df.confirmed_list, color='#03254c',s=9,zorder=13)\n",
    "\n",
    "\n",
    "# Recovered Cases Plot\n",
    "r_model = msird_av.recovered_list\n",
    "plt.plot(t,r_model,color='#008B45', label='Recovered',zorder=10)\n",
    "plt.scatter(brasil_df.days_list,brasil_df.recovered_list, color='#1e663b',alpha=1.,s=9,zorder=12)\n",
    "\n",
    "# Death Cases Plot\n",
    "d_model = msird_av.death_list\n",
    "plt.plot(t,d_model,color='#EE7621', label='Deaths',zorder=10)\n",
    "plt.scatter(brasil_df.days_list,brasil_df.death_list, color='#FF7F24',alpha=1.,s=9,zorder=11)\n",
    "\n",
    "\n",
    "final_deaths = []\n",
    "final_cases  = []\n",
    "\n",
    "for index in tqdm(list(random.choice(range(len(StatModel.sample)),500))):\n",
    "    \n",
    "    par_rdn = StatModel.sample[index]\n",
    "    \n",
    "\n",
    "    # Solving Equations\n",
    "    x0 = [10**(par_rdn[-1]),1/scl_factor,0,0]\n",
    "    msird_av = mod_sird(par_rdn, x0,TEND)\n",
    "    msird_av.solve()\n",
    "    \n",
    "    t = msird_av.days_list\n",
    "    \n",
    "    # Confirmed Cases Plot\n",
    "    c_model = msird_av.confirmed_list\n",
    "    plt.plot(t,c_model,color='#87CEFA',  alpha=ALPHA, linewidth=3)\n",
    "    \n",
    "    # Recovered Cases Plot\n",
    "    r_model = msird_av.recovered_list\n",
    "    plt.plot(t,r_model,color='#98e0b5',alpha=ALPHA, linewidth=3)\n",
    "    \n",
    "    # Death Cases Plot\n",
    "    d_model = msird_av.death_list\n",
    "    plt.plot(t,d_model,color='#FFDAB9', alpha=ALPHA, linewidth=3)\n",
    "    \n",
    "    final_cases.append(np.interp(TEND, t, c_model))\n",
    "    final_deaths.append(np.interp(TEND, t, d_model))\n",
    "    \n",
    "\n",
    "plt.legend(loc=\"upper left\")\n",
    "plt.xlabel('days after first case')\n",
    "plt.ylabel('thousands of people')\n",
    "plt.grid()\n",
    "\n",
    "\n",
    "plt.savefig('results/cases_projection.png')\n",
    "#plt.savefig('tables/cases_projection.pdf')\n",
    "plt.show()\n"
   ]
  },
  {
   "cell_type": "markdown",
   "metadata": {},
   "source": [
    "## Estimates on Total Deaths ans Final Cases"
   ]
  },
  {
   "cell_type": "code",
   "execution_count": null,
   "metadata": {},
   "outputs": [],
   "source": [
    "TEND = 365;\n",
    "ALPHA = 0.07;\n",
    "\n",
    "\n",
    "final_deaths = []\n",
    "final_cases  = []\n",
    "\n",
    "for index in tqdm(list(random.choice(range(len(StatModel.sample)),5000))):\n",
    "    \n",
    "    par_rdn = StatModel.sample[index]\n",
    "    \n",
    "\n",
    "    # Solving Equations\n",
    "    x0 = [10**(par_rdn[-1]),1/scl_factor,0,0]\n",
    "    msird_av = mod_sird(par_rdn, x0,TEND)\n",
    "    msird_av.solve()\n",
    "    \n",
    "    t = msird_av.days_list\n",
    "    \n",
    "    # Confirmed Cases Plot\n",
    "    c_model = msird_av.confirmed_list\n",
    "    \n",
    "    # Recovered Cases Plot\n",
    "    r_model = msird_av.recovered_list\n",
    "    \n",
    "    # Death Cases Plot\n",
    "    d_model = msird_av.death_list\n",
    "    \n",
    "    final_cases.append(np.interp(TEND, t, c_model))\n",
    "    final_deaths.append(np.interp(TEND, t, d_model))\n",
    "\n",
    "\n",
    "    \n",
    "\n",
    "deaths_sample = np.array(final_deaths)\n",
    "plt.hist(deaths_sample,35, color=\"#FF7F50\")\n",
    "plt.xlabel('thousands of deads')\n",
    "plt.ylabel('P')\n",
    "plt.gca().set_yticks([]);\n",
    "plt.savefig('results/deaths_hist.png')\n",
    "plt.savefig('results/deaths_hist.pdf')\n",
    "plt.show()\n",
    "\n",
    "mcmc_d = np.percentile(deaths_sample, [15.865, 50, 84.135])\n",
    "q_d = np.diff(mcmc_d)\n",
    "txt_d = \"\\mathrm{{{3}}} : {0:.3f}_{{-{1:.5f}}}^{{{2:.5f}}}\"\n",
    "txt_d = txt_d.format(mcmc_d[1], q_d[0], q_d[1], 'Deaths')\n",
    "display(Math(txt_d))\n",
    "\n",
    "\n",
    "cases_sample = np.array(final_cases)\n",
    "plt.hist(cases_sample,35, color=\"#0066CC\")\n",
    "plt.xlabel('thousands of cases')\n",
    "plt.ylabel('P')\n",
    "plt.gca().set_yticks([]);\n",
    "plt.savefig('tables/cases_hist.png')\n",
    "plt.savefig('tables/cases_hist.pdf')\n",
    "plt.show()\n",
    "\n",
    "mcmc_c = np.percentile(cases_sample, [15.865, 50, 84.135])\n",
    "q_c = np.diff(mcmc_c)\n",
    "txt_c = \"\\mathrm{{{3}}} : {0:.3f}_{{-{1:.5f}}}^{{{2:.5f}}}\"\n",
    "txt_c = txt_c.format(mcmc_c[1], q_c[0], q_c[1], 'Cases')\n",
    "display(Math(txt_c))\n"
   ]
  },
  {
   "cell_type": "code",
   "execution_count": null,
   "metadata": {},
   "outputs": [],
   "source": [
    "type(brasil_df.days_list)"
   ]
  },
  {
   "cell_type": "code",
   "execution_count": null,
   "metadata": {},
   "outputs": [],
   "source": []
  }
 ],
 "metadata": {
  "kernelspec": {
   "display_name": "Python 3",
   "language": "python",
   "name": "python3"
  },
  "language_info": {
   "codemirror_mode": {
    "name": "ipython",
    "version": 3
   },
   "file_extension": ".py",
   "mimetype": "text/x-python",
   "name": "python",
   "nbconvert_exporter": "python",
   "pygments_lexer": "ipython3",
   "version": "3.7.6"
  }
 },
 "nbformat": 4,
 "nbformat_minor": 4
}
